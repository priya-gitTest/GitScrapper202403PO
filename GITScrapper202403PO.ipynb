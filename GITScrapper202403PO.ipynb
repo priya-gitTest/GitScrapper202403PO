{
 "cells": [
  {
   "cell_type": "code",
   "execution_count": null,
   "metadata": {},
   "outputs": [],
   "source": [
    "# GIT Metadata Scrapper\n",
    "# Code Generated with help from ChatGPT\n",
    "# Created on 2024/03/13\n",
    "# Updated on 2025/04/16\n",
    "# Prompted by Priyanka"
   ]
  },
  {
   "cell_type": "code",
   "execution_count": 3,
   "metadata": {},
   "outputs": [],
   "source": [
    "import requests"
   ]
  },
  {
   "cell_type": "code",
   "execution_count": 5,
   "metadata": {},
   "outputs": [],
   "source": [
    "from getpass import getpass"
   ]
  },
  {
   "cell_type": "code",
   "execution_count": 6,
   "metadata": {},
   "outputs": [],
   "source": [
    "# Example: List repositories of a user\n",
    "username = 'priya-gitTest'\n",
    "url = f'https://api.github.com/users/{username}/repos'"
   ]
  },
  {
   "cell_type": "code",
   "execution_count": null,
   "metadata": {},
   "outputs": [],
   "source": [
    "# Replace 'your_token_here' with your actual token\n",
    "token = getpass('Enter your GIT Token for API Access ')\n",
    "\n"
   ]
  },
  {
   "cell_type": "code",
   "execution_count": 8,
   "metadata": {},
   "outputs": [],
   "source": [
    "# Replace 'owner_name' with the owner's GitHub username\n",
    "owner = 'codemeta'\n",
    "# Replace 'repo_name' with the name of the repository\n",
    "repo_name = 'codemeta-generator'"
   ]
  },
  {
   "cell_type": "code",
   "execution_count": 12,
   "metadata": {},
   "outputs": [],
   "source": [
    "def get_repo_info(owner, repo_name, token):\n",
    "    url = f'https://api.github.com/repos/{owner}/{repo_name}'\n",
    "    headers = {\n",
    "        'Authorization': f'token {token}',\n",
    "        'Accept': 'application/vnd.github.v3+json'\n",
    "    }\n",
    "\n",
    "    print(url)\n",
    "    response = requests.get(url, headers=headers)\n",
    "\n",
    "    if response.status_code == 200:\n",
    "        repo_info = response.json()\n",
    "        return repo_info\n",
    "    else:\n",
    "        print(f\"Failed to retrieve repository information: {response.status_code}\")\n",
    "        return None"
   ]
  },
  {
   "cell_type": "code",
   "execution_count": 14,
   "metadata": {},
   "outputs": [
    {
     "name": "stdout",
     "output_type": "stream",
     "text": [
      "https://api.github.com/repos/codemeta/codemeta-generator\n",
      "Repository Information:\n",
      "Name: codemeta-generator\n",
      "Owner: codemeta\n",
      "Description: This repository contains a (client-side) web application to generate Codemeta documents (aka. codemeta.json).\n",
      "URL: https://github.com/codemeta/codemeta-generator\n",
      "Language: JavaScript\n",
      "Forks Count: 10\n",
      "Stars Count: 11\n",
      "Watchers Count: 11\n",
      "Created At: 2020-02-28T20:01:03Z\n"
     ]
    }
   ],
   "source": [
    "repo_info = get_repo_info(owner, repo_name, token)\n",
    "if repo_info:\n",
    "    print(\"Repository Information:\")\n",
    "    print(f\"Name: {repo_info['name']}\")\n",
    "    print(f\"Owner: {repo_info['owner']['login']}\")\n",
    "    print(f\"Description: {repo_info['description']}\")\n",
    "    print(f\"URL: {repo_info['html_url']}\")\n",
    "    print(f\"Language: {repo_info['language']}\")\n",
    "    print(f\"Forks Count: {repo_info['forks_count']}\")\n",
    "    print(f\"Stars Count: {repo_info['stargazers_count']}\")\n",
    "    print(f\"Watchers Count: {repo_info['watchers_count']}\")\n",
    "    print(f\"Created At: {repo_info['created_at']}\")\n",
    "else:\n",
    "    print(\"Failed to retrieve repository information.\")"
   ]
  },
  {
   "cell_type": "code",
   "execution_count": 15,
   "metadata": {},
   "outputs": [],
   "source": [
    "def get_repo_languages(owner, repo_name, token):\n",
    "    url = f'https://api.github.com/repos/{owner}/{repo_name}/languages'\n",
    "    headers = {\n",
    "        'Authorization': f'token {token}',\n",
    "        'Accept': 'application/vnd.github.v3+json'\n",
    "    }\n",
    "\n",
    "    response = requests.get(url, headers=headers)\n",
    "\n",
    "    if response.status_code == 200:\n",
    "        languages = response.json()\n",
    "        return languages\n",
    "    else:\n",
    "        print(f\"Failed to retrieve repository languages: {response.status_code}\")\n",
    "        return None"
   ]
  },
  {
   "cell_type": "code",
   "execution_count": 16,
   "metadata": {},
   "outputs": [
    {
     "name": "stdout",
     "output_type": "stream",
     "text": [
      "Languages Used in the Repository:\n",
      "JavaScript: 148632 bytes\n",
      "HTML: 17237 bytes\n",
      "CSS: 4656 bytes\n"
     ]
    }
   ],
   "source": [
    "repo_languages = get_repo_languages(owner, repo_name, token)\n",
    "if repo_languages:\n",
    "    print(\"Languages Used in the Repository:\")\n",
    "    for language, bytes_of_code in repo_languages.items():\n",
    "        print(f\"{language}: {bytes_of_code} bytes\")\n",
    "else:\n",
    "    print(\"Failed to retrieve repository languages.\")"
   ]
  },
  {
   "cell_type": "code",
   "execution_count": 17,
   "metadata": {},
   "outputs": [],
   "source": [
    "def get_repo_archive_url(owner, repo_name, archive_format, token):\n",
    "    url = f'https://api.github.com/repos/{owner}/{repo_name}/tarball/main'\n",
    "    headers = {\n",
    "        'Authorization': f'token {token}',\n",
    "        'Accept': 'application/vnd.github.v3+json'\n",
    "    }\n",
    "\n",
    "    response = requests.get(url, headers=headers)\n",
    "\n",
    "    if response.status_code == 200:\n",
    "        archive_url = response.url\n",
    "        return archive_url\n",
    "    else:\n",
    "        print(f\"Failed to retrieve repository archive URL: {response.status_code}\")\n",
    "        return None"
   ]
  },
  {
   "cell_type": "code",
   "execution_count": 18,
   "metadata": {},
   "outputs": [
    {
     "name": "stdout",
     "output_type": "stream",
     "text": [
      "Failed to retrieve repository archive URL: 404\n",
      "Failed to retrieve repository archive URL.\n"
     ]
    }
   ],
   "source": [
    "# Specify the desired archive format ('tarball' or 'zipball')\n",
    "archive_format = 'tarball'\n",
    "\n",
    "archive_url = get_repo_archive_url(owner, repo_name, archive_format, token)\n",
    "if archive_url:\n",
    "    print(f\"Archive URL for {owner}/{repo_name}:\")\n",
    "    print(archive_url)\n",
    "else:\n",
    "    print(\"Failed to retrieve repository archive URL.\")"
   ]
  },
  {
   "cell_type": "code",
   "execution_count": 19,
   "metadata": {},
   "outputs": [],
   "source": [
    "def get_repo_license(owner, repo_name, token):\n",
    "    url = f'https://api.github.com/repos/{owner}/{repo_name}/license'\n",
    "    headers = {\n",
    "        'Authorization': f'token {token}',\n",
    "        'Accept': 'application/vnd.github.v3+json'\n",
    "    }\n",
    "\n",
    "    response = requests.get(url, headers=headers)\n",
    "\n",
    "    if response.status_code == 200:\n",
    "        license_info = response.json()\n",
    "        return license_info\n",
    "    elif response.status_code == 404:\n",
    "        print(\"Repository does not have a license.\")\n",
    "        return None\n",
    "    else:\n",
    "        print(f\"Failed to retrieve repository license: {response.status_code}\")\n",
    "        return None"
   ]
  },
  {
   "cell_type": "code",
   "execution_count": 20,
   "metadata": {},
   "outputs": [
    {
     "name": "stdout",
     "output_type": "stream",
     "text": [
      "License Information:\n",
      "Name: LICENSE\n",
      "SPDX ID: N/A\n",
      "URL: https://github.com/codemeta/codemeta-generator/blob/master/LICENSE\n"
     ]
    }
   ],
   "source": [
    "license_info = get_repo_license(owner, repo_name, token)\n",
    "if license_info:\n",
    "    print(\"License Information:\")\n",
    "    print(f\"Name: {license_info.get('name', 'N/A')}\")\n",
    "    print(f\"SPDX ID: {license_info.get('spdx_id', 'N/A')}\")\n",
    "    print(f\"URL: {license_info.get('html_url', 'N/A')}\")\n",
    "else:\n",
    "    print(\"Failed to retrieve repository license.\")"
   ]
  },
  {
   "cell_type": "code",
   "execution_count": 21,
   "metadata": {},
   "outputs": [
    {
     "name": "stdout",
     "output_type": "stream",
     "text": [
      "{\n",
      "    \"codeRepository\": \"https://api.github.com/repos/codemeta/codemeta-generator\",\n",
      "    \"programmingLanguage\": \"CSS\",\n",
      "    \"downloadUrl\": null,\n",
      "    \"author\": \"codemeta\",\n",
      "    \"license\": \"https://github.com/codemeta/codemeta-generator/blob/master/LICENSE\"\n",
      "}\n"
     ]
    }
   ],
   "source": [
    "import json\n",
    "# Create a dictionary representing the author information\n",
    "url = f'https://api.github.com/repos/{owner}/{repo_name}'\n",
    "author_info = {\n",
    "    \"codeRepository\":url,\n",
    "    \"programmingLanguage\": language,\n",
    "    \"downloadUrl\": archive_url,\n",
    "    \"author\": owner,\n",
    "    \"license\":license_info.get('html_url', 'N/A')\n",
    "}\n",
    "\n",
    "# Serialize the dictionary to JSON\n",
    "json_ld = json.dumps(author_info, indent=4)\n",
    "\n",
    "# Print the JSON-LD\n",
    "print(json_ld)"
   ]
  },
  {
   "cell_type": "code",
   "execution_count": 22,
   "metadata": {},
   "outputs": [],
   "source": [
    "### TODO Make a JSON output like this : https://github.com/ropensci/codemetar/blob/main/codemeta.json"
   ]
  },
  {
   "cell_type": "code",
   "execution_count": 26,
   "metadata": {},
   "outputs": [],
   "source": [
    "#WaterMark for Notebook.\n",
    "#Ref: https://github.com/jupyter-guide/jupyter-guide/blob/master/notebooks/Rule5_Watermark.ipynb \n",
    "\n",
    "#%watermark\n",
    "\n",
    "%load_ext watermark"
   ]
  },
  {
   "cell_type": "code",
   "execution_count": 27,
   "metadata": {},
   "outputs": [
    {
     "name": "stdout",
     "output_type": "stream",
     "text": [
      "Python implementation: CPython\n",
      "Python version       : 3.12.1\n",
      "IPython version      : 9.1.0\n",
      "\n",
      "Compiler    : GCC 9.4.0\n",
      "OS          : Linux\n",
      "Release     : 6.8.0-1021-azure\n",
      "Machine     : x86_64\n",
      "Processor   : x86_64\n",
      "CPU cores   : 2\n",
      "Architecture: 64bit\n",
      "\n"
     ]
    }
   ],
   "source": [
    "#%watermark\n",
    "%watermark -v -m"
   ]
  },
  {
   "cell_type": "code",
   "execution_count": 28,
   "metadata": {},
   "outputs": [
    {
     "name": "stdout",
     "output_type": "stream",
     "text": [
      "requests: 2.32.3\n",
      "json    : 2.0.9\n",
      "\n"
     ]
    }
   ],
   "source": [
    "#%watermark -p pandas,numpy,matplotlib\n",
    "#%watermark -p requests\n",
    "#%watermark -p json\n",
    "%watermark -iv"
   ]
  },
  {
   "cell_type": "code",
   "execution_count": null,
   "metadata": {},
   "outputs": [],
   "source": []
  }
 ],
 "metadata": {
  "kernelspec": {
   "display_name": ".venv",
   "language": "python",
   "name": "python3"
  },
  "language_info": {
   "codemirror_mode": {
    "name": "ipython",
    "version": 3
   },
   "file_extension": ".py",
   "mimetype": "text/x-python",
   "name": "python",
   "nbconvert_exporter": "python",
   "pygments_lexer": "ipython3",
   "version": "3.12.1"
  }
 },
 "nbformat": 4,
 "nbformat_minor": 2
}
